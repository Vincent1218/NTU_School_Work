{
 "cells": [
  {
   "cell_type": "markdown",
   "id": "mexican-arnold",
   "metadata": {},
   "source": [
    "# CZ1104 Linear Algebra for Computing - Lab 3"
   ]
  },
  {
   "cell_type": "markdown",
   "id": "fuzzy-medicare",
   "metadata": {},
   "source": [
    "## Name: Chai Wen Xuan"
   ]
  },
  {
   "cell_type": "markdown",
   "id": "instrumental-leave",
   "metadata": {},
   "source": [
    "## Mat Number: U2020350F"
   ]
  },
  {
   "cell_type": "markdown",
   "id": "portuguese-cardiff",
   "metadata": {},
   "source": [
    "### 1) Turning 4by4 matrix into row echelon form in GF(2)."
   ]
  },
  {
   "cell_type": "code",
   "execution_count": 16,
   "id": "sunset-numbers",
   "metadata": {},
   "outputs": [],
   "source": [
    "# rowlist = [[0,1,1,1,1],[0,0,0,1,1],[1,1,1,1,1],[0,0,0,0,1],[0,0,0,1,1]]\n",
    "rowlist = [[0,0,1,1],[1,0,1,1],[1,0,0,1],[1,1,1,1]]\n",
    "\n",
    "new_rowlist = []\n",
    "rows_left = set(range(len(rowlist)))\n",
    "\n",
    "\n",
    "for c in range(4):\n",
    "    rows_with_nonzero = [r for r in rows_left if rowlist[r][c] !=0]\n",
    "    if rows_with_nonzero != []:\n",
    "        pivot = rows_with_nonzero[0]\n",
    "        new_rowlist.append(rowlist[pivot])\n",
    "        rows_left.remove(pivot)\n",
    "        for r in rows_with_nonzero[1:]:\n",
    "            for x in range(c,4):\n",
    "                rowlist[r][x] += rowlist[pivot][x]\n",
    "                rowlist[r][x] %= 2"
   ]
  },
  {
   "cell_type": "code",
   "execution_count": 17,
   "id": "impaired-parish",
   "metadata": {},
   "outputs": [
    {
     "data": {
      "text/plain": [
       "[[1, 0, 1, 1], [0, 1, 0, 0], [0, 0, 1, 1], [0, 0, 0, 1]]"
      ]
     },
     "execution_count": 17,
     "metadata": {},
     "output_type": "execute_result"
    }
   ],
   "source": [
    "new_rowlist"
   ]
  },
  {
   "cell_type": "markdown",
   "id": "elementary-template",
   "metadata": {},
   "source": [
    "### 2) Turning 5by5 matrix into row echelon form in general number."
   ]
  },
  {
   "cell_type": "code",
   "execution_count": 39,
   "id": "early-frame",
   "metadata": {},
   "outputs": [],
   "source": [
    "# rowlist = [[0,2,3,4,5],[0,0,0,3,2],[1,2,3,4,5],[0,0,0,6,7],[0,0,0,9,8]]\n",
    "rowlist = [[8,5,3,1,5],[5,0,9,3,2],[1,0,3,4,5],[0,7,0,3,5],[0,2,0,4,6]]\n",
    "\n",
    "new_rowlist = []\n",
    "rows_left = set(range(len(rowlist)))\n",
    "\n",
    "\n",
    "for c in range(5):\n",
    "    rows_with_nonzero = [r for r in rows_left if rowlist[r][c] !=0]\n",
    "    if rows_with_nonzero != []:\n",
    "        pivot = rows_with_nonzero[0]\n",
    "        new_rowlist.append(rowlist[pivot])\n",
    "        rows_left.remove(pivot)\n",
    "        for r in rows_with_nonzero[1:]:\n",
    "            multiplier = rowlist[r][c]/rowlist[pivot][c]\n",
    "            for x in range(c,5):\n",
    "                rowlist[r][x] -= multiplier*rowlist[pivot][x]\n",
    "                \n",
    "for c in range(len(new_rowlist)):\n",
    "    temp = new_rowlist[c][c]\n",
    "    for x in range(c,len(new_rowlist)):\n",
    "        new_rowlist[c][x] = new_rowlist[c][x]\n",
    "        if(new_rowlist[c][x] < 1e-10):\n",
    "            new_rowlist[c][x]=0"
   ]
  },
  {
   "cell_type": "code",
   "execution_count": 40,
   "id": "advised-purpose",
   "metadata": {},
   "outputs": [
    {
     "data": {
      "text/plain": [
       "[[8, 5, 3, 1, 5],\n",
       " [0.0, 0, 7.125, 2.375, 0],\n",
       " [0.0, 0.0, 1.2, 3.4, 4.6],\n",
       " [0, -8.881784197001252e-16, 0.0, 0, 0],\n",
       " [0, 0.0, 0.0, 0.0, 0]]"
      ]
     },
     "execution_count": 40,
     "metadata": {},
     "output_type": "execute_result"
    }
   ],
   "source": [
    "new_rowlist"
   ]
  },
  {
   "cell_type": "code",
   "execution_count": null,
   "id": "loose-stable",
   "metadata": {},
   "outputs": [],
   "source": []
  }
 ],
 "metadata": {
  "kernelspec": {
   "display_name": "Python 3",
   "language": "python",
   "name": "python3"
  },
  "language_info": {
   "codemirror_mode": {
    "name": "ipython",
    "version": 3
   },
   "file_extension": ".py",
   "mimetype": "text/x-python",
   "name": "python",
   "nbconvert_exporter": "python",
   "pygments_lexer": "ipython3",
   "version": "3.8.3"
  }
 },
 "nbformat": 4,
 "nbformat_minor": 5
}
