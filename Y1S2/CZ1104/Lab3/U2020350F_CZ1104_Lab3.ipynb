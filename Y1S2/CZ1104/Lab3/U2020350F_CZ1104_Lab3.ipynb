{
 "cells": [
  {
   "cell_type": "markdown",
   "id": "mexican-arnold",
   "metadata": {},
   "source": [
    "# CZ1104 Linear Algebra for Computing - Lab 3"
   ]
  },
  {
   "cell_type": "markdown",
   "id": "fuzzy-medicare",
   "metadata": {},
   "source": [
    "## Name: Chai Wen Xuan"
   ]
  },
  {
   "cell_type": "markdown",
   "id": "instrumental-leave",
   "metadata": {},
   "source": [
    "## Mat Number: U2020350F"
   ]
  },
  {
   "cell_type": "code",
   "execution_count": 1,
   "id": "requested-artist",
   "metadata": {},
   "outputs": [],
   "source": [
    "import numpy as np"
   ]
  },
  {
   "cell_type": "markdown",
   "id": "portuguese-cardiff",
   "metadata": {},
   "source": [
    "### 1) Turning 4by4 matrix into row echelon form in GF(2)."
   ]
  },
  {
   "cell_type": "code",
   "execution_count": 2,
   "id": "satisfactory-experience",
   "metadata": {},
   "outputs": [],
   "source": [
    "# rowlist = [[0,1,1,1,1],[0,0,0,1,1],[1,1,1,1,1],[0,0,0,0,1],[0,0,0,1,1]]\n",
    "rowlist = [[0,0,1,1],[1,0,1,1],[1,0,0,1],[1,1,1,1]]\n",
    "\n",
    "new_rowlist = []\n",
    "rows_left = set(range(len(rowlist)))\n",
    "\n",
    "\n",
    "for c in range(len(rowlist[0])):\n",
    "    rows_with_nonzero = [r for r in rows_left if rowlist[r][c] !=0]\n",
    "    if rows_with_nonzero != []:\n",
    "        pivot = rows_with_nonzero[0]\n",
    "        new_rowlist.append(rowlist[pivot])\n",
    "        rows_left.remove(pivot)\n",
    "        for r in rows_with_nonzero[1:]:\n",
    "            for x in range(c,len(rowlist[0])):\n",
    "                rowlist[r][x] += rowlist[pivot][x]\n",
    "                rowlist[r][x] %= 2\n",
    "                \n",
    "new_rowlist = np.array(new_rowlist)"
   ]
  },
  {
   "cell_type": "code",
   "execution_count": 3,
   "id": "front-employment",
   "metadata": {},
   "outputs": [
    {
     "name": "stdout",
     "output_type": "stream",
     "text": [
      "[[1 0 1 1]\n",
      " [0 1 0 0]\n",
      " [0 0 1 1]\n",
      " [0 0 0 1]]\n"
     ]
    }
   ],
   "source": [
    "print(new_rowlist)"
   ]
  },
  {
   "cell_type": "markdown",
   "id": "aquatic-montreal",
   "metadata": {},
   "source": [
    "### 2) Turning 5by5 matrix into row echelon form in general number."
   ]
  },
  {
   "cell_type": "code",
   "execution_count": 4,
   "id": "early-frame",
   "metadata": {},
   "outputs": [],
   "source": [
    "# rowlist = [[0,2,3,4,5],[0,0,0,3,2],[1,2,3,4,5],[0,0,0,6,7],[0,0,0,9,8]]\n",
    "rowlist = [[8,5,3,1,5],[5,0,9,3,2],[1,0,3,4,5],[0,7,0,3,5],[0,2,0,4,6]]\n",
    "\n",
    "new_rowlist = []\n",
    "rows_left = set(range(len(rowlist)))\n",
    "\n",
    "\n",
    "for c in range(len(rowlist[0])):\n",
    "    rows_with_nonzero = [r for r in rows_left if rowlist[r][c] !=0]\n",
    "    if rows_with_nonzero != []:\n",
    "        pivot = rows_with_nonzero[0]\n",
    "        new_rowlist.append(rowlist[pivot])\n",
    "        rows_left.remove(pivot)\n",
    "        for r in rows_with_nonzero[1:]:\n",
    "            multiplier = rowlist[r][c]/rowlist[pivot][c]\n",
    "            for x in range(c,len(rowlist[0])):\n",
    "                rowlist[r][x] -= multiplier*rowlist[pivot][x]\n",
    "        \n",
    "new_rowlist = np.array(new_rowlist)\n",
    "for c in range(len(new_rowlist)):\n",
    "    temp = new_rowlist[c][c]\n",
    "    for x in range(len(new_rowlist)):\n",
    "        new_rowlist[c][x] = new_rowlist[c][x]/temp\n",
    "        if (abs(new_rowlist[c][x])<0.00000000001):\n",
    "            new_rowlist[c][x] = 0"
   ]
  },
  {
   "cell_type": "code",
   "execution_count": 90,
   "id": "advised-purpose",
   "metadata": {},
   "outputs": [
    {
     "name": "stdout",
     "output_type": "stream",
     "text": [
      "[[ 1.          0.625       0.375       0.125       0.625     ]\n",
      " [ 0.          1.         -2.28       -0.76        0.36      ]\n",
      " [ 0.          0.          1.          2.83333333  3.83333333]\n",
      " [ 0.          0.          0.          1.          1.59078591]\n",
      " [ 0.          0.          0.          0.          1.        ]]\n"
     ]
    }
   ],
   "source": [
    "print(new_rowlist)"
   ]
  },
  {
   "cell_type": "code",
   "execution_count": null,
   "id": "loose-stable",
   "metadata": {},
   "outputs": [],
   "source": []
  }
 ],
 "metadata": {
  "kernelspec": {
   "display_name": "Python 3",
   "language": "python",
   "name": "python3"
  },
  "language_info": {
   "codemirror_mode": {
    "name": "ipython",
    "version": 3
   },
   "file_extension": ".py",
   "mimetype": "text/x-python",
   "name": "python",
   "nbconvert_exporter": "python",
   "pygments_lexer": "ipython3",
   "version": "3.8.3"
  }
 },
 "nbformat": 4,
 "nbformat_minor": 5
}
