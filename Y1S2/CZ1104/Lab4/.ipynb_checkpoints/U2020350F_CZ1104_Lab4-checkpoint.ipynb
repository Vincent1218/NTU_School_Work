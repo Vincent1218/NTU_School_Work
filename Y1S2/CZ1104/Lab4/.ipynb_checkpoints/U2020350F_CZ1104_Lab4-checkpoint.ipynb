{
 "cells": [
  {
   "cell_type": "markdown",
   "id": "mexican-arnold",
   "metadata": {},
   "source": [
    "# CZ1104 Linear Algebra for Computing - Lab 4"
   ]
  },
  {
   "cell_type": "markdown",
   "id": "fuzzy-medicare",
   "metadata": {},
   "source": [
    "## Name: Chai Wen Xuan"
   ]
  },
  {
   "cell_type": "markdown",
   "id": "instrumental-leave",
   "metadata": {},
   "source": [
    "## Mat Number: U2020350F"
   ]
  },
  {
   "cell_type": "code",
   "execution_count": 1,
   "id": "requested-artist",
   "metadata": {},
   "outputs": [],
   "source": [
    "import numpy as np"
   ]
  },
  {
   "cell_type": "markdown",
   "id": "distributed-violation",
   "metadata": {},
   "source": [
    "## Q1) "
   ]
  },
  {
   "cell_type": "markdown",
   "id": "union-creation",
   "metadata": {},
   "source": [
    "## a)"
   ]
  },
  {
   "cell_type": "code",
   "execution_count": 2,
   "id": "civilian-thunder",
   "metadata": {},
   "outputs": [],
   "source": [
    "\n",
    "notOrth = []\n",
    "\n",
    "def checkOrt(vector):\n",
    "    isOrt = True\n",
    "    tvector = []\n",
    "    tvector = tvector\n",
    "    for i in range(len(vector[0])):\n",
    "        tvector.append(vector[:,i])\n",
    "    \n",
    "    for i in range(len(tvector)):\n",
    "        for x in range(i+1,len(tvector)):\n",
    "            result = np.dot(tvector[i],tvector[x])\n",
    "            print(\"Checking column\",i+1,\"and column\",x+1)\n",
    "            print(\"Result:\", result)\n",
    "            if(result!=0):\n",
    "                isOrt = False\n",
    "                notOrth.append([tvector[i],tvector[x]])\n",
    "\n",
    "    if(not(isOrt)):\n",
    "        print(\"This vector is not orthogonal!\")\n",
    "    else:\n",
    "        print(\"This vector is orthogonal!\")\n"
   ]
  },
  {
   "cell_type": "markdown",
   "id": "regulated-feeding",
   "metadata": {},
   "source": [
    "## b)"
   ]
  },
  {
   "cell_type": "code",
   "execution_count": 3,
   "id": "exceptional-screen",
   "metadata": {},
   "outputs": [],
   "source": [
    "A = [[-6,-3, 6, 1],\n",
    "     [-1, 2, 1,-6],\n",
    "     [ 3, 6, 3,-2],\n",
    "     [ 6,-3, 6,-1],\n",
    "     [ 2,-1, 2, 3],\n",
    "     [-3, 6, 3, 2],\n",
    "     [-2,-1, 2,-3],\n",
    "     [ 1, 2, 1, 6]]\n",
    "\n",
    "A = np.array(A)"
   ]
  },
  {
   "cell_type": "code",
   "execution_count": 4,
   "id": "pacific-oxygen",
   "metadata": {},
   "outputs": [
    {
     "name": "stdout",
     "output_type": "stream",
     "text": [
      "Checking column 1 and column 2\n",
      "Result: 0\n",
      "Checking column 1 and column 3\n",
      "Result: 0\n",
      "Checking column 1 and column 4\n",
      "Result: 0\n",
      "Checking column 2 and column 3\n",
      "Result: 0\n",
      "Checking column 2 and column 4\n",
      "Result: 0\n",
      "Checking column 3 and column 4\n",
      "Result: 0\n",
      "This vector is orthogonal!\n"
     ]
    }
   ],
   "source": [
    "notOrth = []\n",
    "\n",
    "checkOrt(A)"
   ]
  },
  {
   "cell_type": "markdown",
   "id": "backed-thread",
   "metadata": {},
   "source": [
    "### Test with random matrix."
   ]
  },
  {
   "cell_type": "code",
   "execution_count": 5,
   "id": "roman-parliament",
   "metadata": {},
   "outputs": [
    {
     "name": "stdout",
     "output_type": "stream",
     "text": [
      "Checking column 1 and column 2\n",
      "Result: 30\n",
      "Checking column 1 and column 3\n",
      "Result: -7\n",
      "Checking column 1 and column 4\n",
      "Result: -62\n",
      "Checking column 2 and column 3\n",
      "Result: 18\n",
      "Checking column 2 and column 4\n",
      "Result: -4\n",
      "Checking column 3 and column 4\n",
      "Result: 43\n",
      "This vector is not orthogonal!\n",
      "Pairs are not orthogonal:\n",
      "Vector [1 0 6 4] and vector [ 2 -2  6 -2] is not orthogonal!\n",
      "Vector [1 0 6 4] and vector [ 3  1  1 -4] is not orthogonal!\n",
      "Vector [1 0 6 4] and vector [ 4  0 -5 -9] is not orthogonal!\n",
      "Vector [ 2 -2  6 -2] and vector [ 3  1  1 -4] is not orthogonal!\n",
      "Vector [ 2 -2  6 -2] and vector [ 4  0 -5 -9] is not orthogonal!\n",
      "Vector [ 3  1  1 -4] and vector [ 4  0 -5 -9] is not orthogonal!\n"
     ]
    }
   ],
   "source": [
    "A = [[ 1, 2, 3, 4],\n",
    "     [ 0,-2, 1, 0],\n",
    "     [ 6, 6, 1,-5],\n",
    "     [ 4,-2,-4,-9]]\n",
    "\n",
    "A = np.array(A)\n",
    "\n",
    "notOrth = []\n",
    "\n",
    "checkOrt(A)\n",
    "\n",
    "print(\"Pairs are not orthogonal:\")\n",
    "if notOrth != []:\n",
    "    for vector in notOrth:\n",
    "        print(\"Vector\",vector[0],\"and vector\",vector[1] , \"is not orthogonal!\")"
   ]
  },
  {
   "cell_type": "markdown",
   "id": "invisible-grain",
   "metadata": {},
   "source": [
    "## c)\n"
   ]
  },
  {
   "cell_type": "markdown",
   "id": "growing-illness",
   "metadata": {},
   "source": [
    "### It is not always true that if 2 vectors v.w != 0, v is not orthogonal. This is because in executing program on dot product, the computer will somtimes create float, which is a very small number that should be zero.\n"
   ]
  },
  {
   "cell_type": "markdown",
   "id": "completed-helicopter",
   "metadata": {},
   "source": [
    "### Example:"
   ]
  },
  {
   "cell_type": "code",
   "execution_count": 6,
   "id": "designed-terrorist",
   "metadata": {},
   "outputs": [],
   "source": [
    "A = [[-.6,-.3, .6, .1],\n",
    "     [-.1, .2, .1,-.6],\n",
    "     [ .3, .6, .3,-.2],\n",
    "     [ .6,-.3, .6,-.1],\n",
    "     [ .2,-.1, .2, .3],\n",
    "     [-.3, .6, .3, .2],\n",
    "     [-.2,-.1, .2,-.3],\n",
    "     [ .1, .2, .1, .6]]\n",
    "\n",
    "A = np.array(A)"
   ]
  },
  {
   "cell_type": "markdown",
   "id": "third-conflict",
   "metadata": {},
   "source": [
    "### Solution:\n"
   ]
  },
  {
   "cell_type": "markdown",
   "id": "amber-story",
   "metadata": {},
   "source": [
    "### When dealing with vector , it is possible to have a result that is not correct. ( Result very close to 0)\n",
    "### Hence, we need a checker to check, if the result is less than 1e-10, we will treat it as zero and return 0 value."
   ]
  },
  {
   "cell_type": "code",
   "execution_count": 7,
   "id": "worth-exception",
   "metadata": {},
   "outputs": [],
   "source": [
    "def checkZ(result):\n",
    "    if ((abs(result) < 1e-10) and (result != 0)):\n",
    "        print(\"Converting to 0...\")\n",
    "        return 0;\n",
    "    else : return result"
   ]
  },
  {
   "cell_type": "code",
   "execution_count": 8,
   "id": "independent-compact",
   "metadata": {},
   "outputs": [
    {
     "name": "stdout",
     "output_type": "stream",
     "text": [
      "Checking column 1 and column 2\n",
      "Result: 0.0\n",
      "Checking column 1 and column 3\n",
      "Result: 0.0\n",
      "Checking column 1 and column 4\n",
      "Result: 6.661338147750939e-18\n",
      "Converting to 0...\n",
      "Checking column 2 and column 3\n",
      "Result: 0.0\n",
      "Checking column 2 and column 4\n",
      "Result: 6.938893903907228e-18\n",
      "Converting to 0...\n",
      "Checking column 3 and column 4\n",
      "Result: 0.0\n",
      "This vector is orthogonal!\n"
     ]
    }
   ],
   "source": [
    "notOrth = []\n",
    "\n",
    "def checkOrt(vector):\n",
    "    isOrt = True\n",
    "    tvector = []\n",
    "    tvector = tvector\n",
    "    for i in range(len(vector[0])):\n",
    "        tvector.append(vector[:,i])\n",
    "    \n",
    "    for i in range(len(tvector)):\n",
    "        for x in range(i+1,len(tvector)):\n",
    "            result = np.dot(tvector[i],tvector[x])\n",
    "            print(\"Checking column\",i+1,\"and column\",x+1)\n",
    "            print(\"Result:\", result)\n",
    "            if(checkZ(result)!=0):\n",
    "                isOrt = False\n",
    "                notOrth.append([tvector[i],tvector[x]])\n",
    "\n",
    "    if(not(isOrt)):\n",
    "        print(\"This vector is not orthogonal!\")\n",
    "    else:\n",
    "        print(\"This vector is orthogonal!\")\n",
    "\n",
    "checkOrt(A)"
   ]
  },
  {
   "cell_type": "markdown",
   "id": "premium-desert",
   "metadata": {},
   "source": [
    "## Q2) "
   ]
  },
  {
   "cell_type": "markdown",
   "id": "technical-benchmark",
   "metadata": {},
   "source": [
    "### Orthogonalise"
   ]
  },
  {
   "cell_type": "code",
   "execution_count": 9,
   "id": "upset-niagara",
   "metadata": {},
   "outputs": [],
   "source": [
    "def orthogonalise(L):\n",
    "    print(\"Gram–Schmidt process undergoing...\")\n",
    "    print()\n",
    "    m = len(L)\n",
    "    n = len(L[0])\n",
    "    Q = np.zeros((m,n))\n",
    "    x1 = L[:,0]\n",
    "    Q[:,0] = x1/np.linalg.norm(x1)\n",
    "    \n",
    "    for i in range (1,n):\n",
    "        x_i = L[:,i]\n",
    "        v_i = x_i\n",
    "        for j in range (i):\n",
    "            v_j = Q[:,j]\n",
    "            RVal = np.dot(x_i,v_j)/np.dot(v_j,v_j)\n",
    "            v_i = v_i - RVal*v_j\n",
    "        Q[:,i]=v_i/np.linalg.norm(v_i);\n",
    "        \n",
    "    print(\"Result orthonormal Matrix:\")\n",
    "    \n",
    "    finalL = []\n",
    "    for i in range(len(L)):\n",
    "        finalL.append(Q[:,i])\n",
    "    finalL = np.array(finalL)\n",
    "    print(finalL)\n",
    "    return finalL"
   ]
  },
  {
   "cell_type": "markdown",
   "id": "steady-spending",
   "metadata": {},
   "source": [
    "### Check Lineraly Independent"
   ]
  },
  {
   "cell_type": "code",
   "execution_count": 10,
   "id": "multiple-purpose",
   "metadata": {},
   "outputs": [],
   "source": [
    "def checkLI(rowlist):\n",
    "    new_rowlist = []\n",
    "    rows_left = set(range(len(rowlist)))\n",
    "    isLI = True\n",
    "\n",
    "    for c in range(len(rowlist[0])):\n",
    "        rows_with_nonzero = [r for r in rows_left if rowlist[r][c] !=0]\n",
    "        if rows_with_nonzero != []:\n",
    "            pivot = rows_with_nonzero[0]\n",
    "            new_rowlist.append(rowlist[pivot])\n",
    "            rows_left.remove(pivot)\n",
    "            for r in rows_with_nonzero[1:]:\n",
    "                multiplier = rowlist[r][c]/rowlist[pivot][c]\n",
    "                for x in range(c,len(rowlist[0])):\n",
    "                    rowlist[r][x] -= multiplier*rowlist[pivot][x]\n",
    "\n",
    "    new_rowlist = np.array(new_rowlist)\n",
    "    for c in range(len(new_rowlist)):\n",
    "        temp = new_rowlist[c][c]\n",
    "        for x in range(len(new_rowlist)):\n",
    "            new_rowlist[c][x] = new_rowlist[c][x]/temp\n",
    "            if (abs(new_rowlist[c][x])<1e-10):\n",
    "                new_rowlist[c][x] = 0\n",
    "    \n",
    "    for i in range(len(new_rowlist)):\n",
    "        if(new_rowlist[i][i]!=1):\n",
    "            isLI = False\n",
    "    \n",
    "    print(\"Turning in to row echelon form...\")\n",
    "    print(new_rowlist)\n",
    "    if (isLI):\n",
    "        print(\"The list of vectors is linerly independent\")\n",
    "    print()"
   ]
  },
  {
   "cell_type": "code",
   "execution_count": 11,
   "id": "union-practitioner",
   "metadata": {},
   "outputs": [
    {
     "name": "stdout",
     "output_type": "stream",
     "text": [
      "Turning in to row echelon form...\n",
      "[[  1.           0.75         0.25         2.        ]\n",
      " [  0.           1.          -2.33333333  -9.        ]\n",
      " [  0.           0.           1.         -19.5       ]]\n",
      "The list of vectors is linerly independent\n",
      "\n",
      "Gram–Schmidt process undergoing...\n",
      "\n",
      "Result orthonormal Matrix:\n",
      "[[ 0.2981424   0.59628479  0.74535599]\n",
      " [ 0.1407365   0.74487369 -0.65219355]\n",
      " [ 0.94408916 -0.29934534 -0.13815939]]\n",
      "\n",
      "Checking column 1 and column 2\n",
      "Result: -1.249000902703301e-16\n",
      "Converting to 0...\n",
      "Checking column 1 and column 3\n",
      "Result: -6.938893903907228e-17\n",
      "Converting to 0...\n",
      "Checking column 2 and column 3\n",
      "Result: 1.6653345369377348e-16\n",
      "Converting to 0...\n",
      "This vector is orthogonal!\n"
     ]
    }
   ],
   "source": [
    "L = [[4,3,1,2],[8,9,-5,-5],[10,1,-1,5]]\n",
    "\n",
    "checkLI(L)\n",
    "\n",
    "L = [[4,3,1,2],[8,9,-5,-5],[10,1,-1,5]]\n",
    "L = np.array(L)\n",
    "L = orthogonalise(L)\n",
    "print()\n",
    "L = np.array(L)\n",
    "checkOrt(L)"
   ]
  },
  {
   "cell_type": "markdown",
   "id": "continental-holiday",
   "metadata": {},
   "source": [
    "## Q3) "
   ]
  },
  {
   "cell_type": "markdown",
   "id": "copyrighted-jewelry",
   "metadata": {},
   "source": [
    "## a)"
   ]
  },
  {
   "cell_type": "code",
   "execution_count": 12,
   "id": "hispanic-swing",
   "metadata": {},
   "outputs": [],
   "source": [
    "def QRF(L):\n",
    "    print(\"Gram–Schmidt process undergoing...\")\n",
    "    print()\n",
    "    m = len(L)\n",
    "    n = len(L[0])\n",
    "    Q = np.zeros((m,n))\n",
    "    R = np.zeros((n,n))\n",
    "    x1 = L[:,0]\n",
    "    Q[:,0] = x1/np.linalg.norm(x1)\n",
    "    R[0][0] = '{:.5f}'.format(np.linalg.norm(x1))\n",
    "    \n",
    "    for i in range (1,n):\n",
    "        x_i = L[:,i]\n",
    "        v_i = x_i\n",
    "        for j in range (i):\n",
    "            v_j = Q[:,j]\n",
    "            RVal = np.dot(x_i,v_j)/np.dot(v_j,v_j)\n",
    "            v_i = v_i - RVal*v_j\n",
    "            R[j][i] = '{:.8f}'.format(RVal)\n",
    "        Q[:,i]=v_i/np.linalg.norm(v_i);\n",
    "        R[i][i] = '{:.8f}'.format(np.linalg.norm(v_i))\n",
    "    print(\"Result orthonormal Matrix:\")\n",
    "    print(\"Q:\")\n",
    "    print(Q)\n",
    "    print(\"R:\")\n",
    "    print(R)"
   ]
  },
  {
   "cell_type": "markdown",
   "id": "plain-israeli",
   "metadata": {},
   "source": [
    "## b)"
   ]
  },
  {
   "cell_type": "code",
   "execution_count": 13,
   "id": "temporal-asset",
   "metadata": {},
   "outputs": [
    {
     "name": "stdout",
     "output_type": "stream",
     "text": [
      "Gram–Schmidt process undergoing...\n",
      "\n",
      "Result orthonormal Matrix:\n",
      "Q:\n",
      "[[ 0.2981424   0.1407365   0.94408916  0.54815097]\n",
      " [ 0.59628479  0.74487369 -0.29934534  0.68518871]\n",
      " [ 0.74535599 -0.65219355 -0.13815939 -0.4796321 ]]\n",
      "R:\n",
      "[[13.41641     7.00634633 -3.42863757  1.34164079]\n",
      " [ 0.          6.47387914 -2.93143838 -6.70386318]\n",
      " [ 0.          0.          2.57897527  2.6941081 ]\n",
      " [ 0.          0.          0.          0.        ]]\n"
     ]
    }
   ],
   "source": [
    "L = [[4,3,1,2],[8,9,-5,-5],[10,1,-1,5]]\n",
    "L = np.array(L)\n",
    "QRF(L)\n"
   ]
  },
  {
   "cell_type": "code",
   "execution_count": null,
   "id": "nutritional-barrel",
   "metadata": {},
   "outputs": [],
   "source": []
  }
 ],
 "metadata": {
  "kernelspec": {
   "display_name": "Python 3",
   "language": "python",
   "name": "python3"
  },
  "language_info": {
   "codemirror_mode": {
    "name": "ipython",
    "version": 3
   },
   "file_extension": ".py",
   "mimetype": "text/x-python",
   "name": "python",
   "nbconvert_exporter": "python",
   "pygments_lexer": "ipython3",
   "version": "3.8.3"
  }
 },
 "nbformat": 4,
 "nbformat_minor": 5
}
